{
 "cells": [
  {
   "cell_type": "code",
   "execution_count": null,
   "metadata": {},
   "outputs": [],
   "source": [
    "import numpy as np\n",
    "import matplotlib.pyplot as plt\n",
    "import matplotlib\n",
    "import pandas as pd\n",
    "from ex10 import *\n",
    "matplotlib.rcParams[\"figure.dpi\"]=300"
   ]
  },
  {
   "cell_type": "code",
   "execution_count": null,
   "metadata": {},
   "outputs": [],
   "source": [
    "N=100\n",
    "M=100\n",
    "a,b,c,d=-10,10,-10,10\n",
    "size=1\n",
    "density_1, density_2 = 1, 1\n",
    "pressure_1, pressure_2 = 100, 1.0\n",
    "momentum_1, momentum_2 = 0, 0\n",
    "t_max = 0.2\n",
    "gamma = 1.4\n",
    "\n",
    "# w = [rho, vx, vy, vz, p]\n",
    "w_1 = [density_1, momentum_1, momentum_1, momentum_1, pressure_1]\n",
    "w_2 = [density_2, momentum_2, momentum_2, momentum_2, pressure_2]\n",
    "q_1 = q_function(w_1,gamma)\n",
    "q_2 = q_function(w_2,gamma)"
   ]
  },
  {
   "cell_type": "code",
   "execution_count": null,
   "metadata": {},
   "outputs": [],
   "source": [
    "q=initial(a,b,c,d,N,M,q_1,q_2,size)\n",
    "w=np.zeros_like(q)\n",
    "for k in range(N):\n",
    "    for l in range(M):\n",
    "        w[k][l]=invert_q(q[k][l],gamma)\n",
    "plt.imshow(w[:,:,4])\n",
    "plt.title(\"Sedov explosion pressure at t=0\")\n",
    "plt.colorbar()"
   ]
  },
  {
   "cell_type": "code",
   "execution_count": null,
   "metadata": {},
   "outputs": [],
   "source": [
    "N,M=20,20\n",
    "densities=np.zeros((N,M))\n",
    "x_velocities=np.zeros((N,M))\n",
    "pressures=np.zeros((N,M))\n",
    "q=run(N,M, a, b,c,d, size, gamma, w_1, w_2, t_max)\n",
    "w=np.zeros_like(q)\n",
    "for i in range(N):\n",
    "    for j in range(M):\n",
    "        w[i][j]=invert_q(q[i][j],gamma)\n",
    "        densities[i][j]=w[i][j][0]\n",
    "        x_velocities[i][j]=q[i][j][1]\n",
    "        pressures[i][j]=w[i][j][4]\n",
    "plt.imshow(densities)"
   ]
  }
 ],
 "metadata": {
  "interpreter": {
   "hash": "35455d277cc69279d69bd3d2fff07608906c78ad9fde0fa493e6ee7e737d810e"
  },
  "kernelspec": {
   "display_name": "Python 3.8.5 ('base')",
   "language": "python",
   "name": "python3"
  },
  "language_info": {
   "codemirror_mode": {
    "name": "ipython",
    "version": 3
   },
   "file_extension": ".py",
   "mimetype": "text/x-python",
   "name": "python",
   "nbconvert_exporter": "python",
   "pygments_lexer": "ipython3",
   "version": "3.8.5"
  },
  "orig_nbformat": 4
 },
 "nbformat": 4,
 "nbformat_minor": 2
}
